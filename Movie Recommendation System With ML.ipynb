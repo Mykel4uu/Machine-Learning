{
 "cells": [
  {
   "cell_type": "code",
   "execution_count": 1,
   "id": "623f2b42",
   "metadata": {},
   "outputs": [],
   "source": [
    "import pandas as pd\n",
    "import numpy as np\n",
    "import matplotlib.pyplot as plt\n",
    "import difflib \n",
    "from sklearn.feature_extraction.text import TfidfVectorizer \n",
    "from sklearn.metrics.pairwise import cosine_similarity  "
   ]
  },
  {
   "cell_type": "code",
   "execution_count": 2,
   "id": "67283d1f",
   "metadata": {},
   "outputs": [],
   "source": [
    "data = pd.read_csv('movies.csv')\n",
    "selected_features = ['genres', 'keywords', 'cast', 'director', 'tagline', 'spoken_languages']\n",
    "for i in selected_features: \n",
    "    data[i] = data[i].fillna('')"
   ]
  },
  {
   "cell_type": "code",
   "execution_count": 3,
   "id": "241bdeb8",
   "metadata": {},
   "outputs": [],
   "source": [
    "combine = data['genres'] + ' ' + data['keywords'] + ' ' + data['cast'] + ' ' + data['director'] + ' ' + data['tagline'] + ' ' + data['spoken_languages']\n",
    "vectorizer = TfidfVectorizer()\n",
    "feature_vector = vectorizer.fit_transform(combine)\n",
    "similarity = cosine_similarity(feature_vector)"
   ]
  },
  {
   "cell_type": "code",
   "execution_count": 4,
   "id": "bff20b3c",
   "metadata": {},
   "outputs": [
    {
     "name": "stdout",
     "output_type": "stream",
     "text": [
      "name your favourite movie name: tangled\n"
     ]
    }
   ],
   "source": [
    "name = input('name your favourite movie name: ')\n",
    "title = data['title'].tolist()\n",
    "find = difflib.get_close_matches(name, title)\n",
    "close_match = find[0]\n"
   ]
  },
  {
   "cell_type": "code",
   "execution_count": 5,
   "id": "a995ae77",
   "metadata": {},
   "outputs": [],
   "source": [
    "index = data[data.title == close_match]['index'].values[0]\n",
    "similarity_score = list(enumerate(similarity[index]))"
   ]
  },
  {
   "cell_type": "code",
   "execution_count": 6,
   "id": "dc4d9a12",
   "metadata": {},
   "outputs": [
    {
     "name": "stdout",
     "output_type": "stream",
     "text": [
      "movies suggested for you: \n",
      "\n",
      "1 . Tangled\n",
      "2 . Pan\n",
      "3 . Maleficent\n",
      "4 . Shrek\n",
      "5 . Racing Stripes\n",
      "6 . Alvin and the Chipmunks: The Squeakquel\n",
      "7 . Snow White: A Tale of Terror\n",
      "8 . Street Fighter\n",
      "9 . Aladdin\n",
      "10 . Snow White and the Huntsman\n"
     ]
    }
   ],
   "source": [
    "sorted_similar_movies = sorted(similarity_score, key = lambda x:x[1], reverse = True)\n",
    "print('movies suggested for you: \\n')\n",
    "\n",
    "i = 1\n",
    "for movies in sorted_similar_movies:\n",
    "    index = movies[0]\n",
    "    title_from_movies = data[data.index==index]['title'].values[0]\n",
    "    if(i<11):\n",
    "        print(i, '.', title_from_movies)\n",
    "        i+=1"
   ]
  },
  {
   "cell_type": "code",
   "execution_count": null,
   "id": "b7291723",
   "metadata": {},
   "outputs": [],
   "source": []
  }
 ],
 "metadata": {
  "kernelspec": {
   "display_name": "Python 3 (ipykernel)",
   "language": "python",
   "name": "python3"
  },
  "language_info": {
   "codemirror_mode": {
    "name": "ipython",
    "version": 3
   },
   "file_extension": ".py",
   "mimetype": "text/x-python",
   "name": "python",
   "nbconvert_exporter": "python",
   "pygments_lexer": "ipython3",
   "version": "3.9.12"
  }
 },
 "nbformat": 4,
 "nbformat_minor": 5
}
